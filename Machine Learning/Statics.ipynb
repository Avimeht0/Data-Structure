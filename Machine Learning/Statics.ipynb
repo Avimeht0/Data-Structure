{
 "cells": [
  {
   "cell_type": "code",
   "execution_count": 5,
   "id": "110a853b",
   "metadata": {},
   "outputs": [],
   "source": [
    "import numpy as np\n",
    "import pandas as pd"
   ]
  },
  {
   "cell_type": "code",
   "execution_count": 10,
   "id": "bf9ff42c",
   "metadata": {},
   "outputs": [
    {
     "name": "stdout",
     "output_type": "stream",
     "text": [
      "Average of the array is:  52.285714285714285\n",
      "Array after multiplying by 2:  [ 24 108 152  46  90 134 178]\n",
      "Sorted array:  [ 24  46  90 108 134 152 178]\n",
      "Average of the array is:  104.57142857142857\n"
     ]
    }
   ],
   "source": [
    "ar=[12,54,76,23,45,67,89]\n",
    "avg=np.sum(ar)/len(ar)\n",
    "print(\"Average of the array is: \",avg)\n",
    "ar=np.array([12,54,76,23,45,67,89])\n",
    "ar2=np.array(ar * 2)\n",
    "print(\"Array after multiplying by 2: \",ar2)\n",
    "ar2.sort()\n",
    "print(\"Sorted array: \",ar2)\n",
    "avg=ar2.mean()\n",
    "print(\"Average of the array is: \",avg)"
   ]
  },
  {
   "cell_type": "code",
   "execution_count": 11,
   "id": "3683cbd4",
   "metadata": {},
   "outputs": [
    {
     "name": "stdout",
     "output_type": "stream",
     "text": [
      "--2025-05-13 18:12:01--  https://raw.githubusercontent.com/datasciencedojo/datasets/master/titanic.csv\n",
      "Resolving raw.githubusercontent.com (raw.githubusercontent.com)... 185.199.110.133, 185.199.108.133, 185.199.111.133, ...\n",
      "Connecting to raw.githubusercontent.com (raw.githubusercontent.com)|185.199.110.133|:443... connected.\n",
      "HTTP request sent, awaiting response... 200 OK\n",
      "Length: 60302 (59K) [text/plain]\n",
      "Saving to: ‘titanic.csv’\n",
      "\n",
      "titanic.csv         100%[===================>]  58.89K  --.-KB/s    in 0.07s   \n",
      "\n",
      "2025-05-13 18:12:02 (836 KB/s) - ‘titanic.csv’ saved [60302/60302]\n",
      "\n"
     ]
    }
   ],
   "source": [
    "!wget https://raw.githubusercontent.com/datasciencedojo/datasets/master/titanic.csv\n"
   ]
  },
  {
   "cell_type": "code",
   "execution_count": 15,
   "id": "6e6fb833",
   "metadata": {},
   "outputs": [
    {
     "name": "stdout",
     "output_type": "stream",
     "text": [
      "   PassengerId  Survived  Pclass  \\\n",
      "0            1         0       3   \n",
      "1            2         1       1   \n",
      "2            3         1       3   \n",
      "\n",
      "                                                Name     Sex   Age  SibSp  \\\n",
      "0                            Braund, Mr. Owen Harris    male  22.0      1   \n",
      "1  Cumings, Mrs. John Bradley (Florence Briggs Th...  female  38.0      1   \n",
      "2                             Heikkinen, Miss. Laina  female  26.0      0   \n",
      "\n",
      "   Parch            Ticket     Fare Cabin Embarked  \n",
      "0      0         A/5 21171   7.2500   NaN        S  \n",
      "1      0          PC 17599  71.2833   C85        C  \n",
      "2      0  STON/O2. 3101282   7.9250   NaN        S  \n"
     ]
    }
   ],
   "source": [
    "# how to read a csv file \n",
    "Dataset=pd.read_csv(\"titanic.csv\")\n",
    "print(df.head(3))"
   ]
  },
  {
   "cell_type": "code",
   "execution_count": 18,
   "id": "103e51c5",
   "metadata": {},
   "outputs": [],
   "source": [
    "Age=Dataset[\"Age\"]"
   ]
  },
  {
   "cell_type": "code",
   "execution_count": 23,
   "id": "5a5960cd",
   "metadata": {},
   "outputs": [
    {
     "name": "stdout",
     "output_type": "stream",
     "text": [
      "Age of the first 3 passengers:  0    22.0\n",
      "1    38.0\n",
      "2    26.0\n",
      "Name: Age, dtype: float64\n",
      "Passenger  0  age is:  22.0\n",
      "Passenger  1  age is:  38.0\n",
      "Passenger  2  age is:  26.0\n",
      "Passenger  3  age is:  35.0\n",
      "Passenger  4  age is:  35.0\n",
      "Passenger  5  age is:  nan\n",
      "Average of age of all passengers:  29.69911764705882\n"
     ]
    }
   ],
   "source": [
    "print(\"Age of the first 3 passengers: \",Age.head(3))\n",
    "\n",
    "# get the each passenger's age one by one \n",
    "\n",
    "for i in range(0,6):\n",
    "    print(\"Passenger \",i,\" age is: \",Age[i])\n",
    "\n",
    "Average_of_age=Age.mean()\n",
    "print(\"Average of age of all passengers: \",Average_of_age)"
   ]
  },
  {
   "cell_type": "code",
   "execution_count": null,
   "id": "bf36238b",
   "metadata": {},
   "outputs": [],
   "source": []
  }
 ],
 "metadata": {
  "kernelspec": {
   "display_name": "Python 3",
   "language": "python",
   "name": "python3"
  },
  "language_info": {
   "codemirror_mode": {
    "name": "ipython",
    "version": 3
   },
   "file_extension": ".py",
   "mimetype": "text/x-python",
   "name": "python",
   "nbconvert_exporter": "python",
   "pygments_lexer": "ipython3",
   "version": "3.10.12"
  }
 },
 "nbformat": 4,
 "nbformat_minor": 5
}
